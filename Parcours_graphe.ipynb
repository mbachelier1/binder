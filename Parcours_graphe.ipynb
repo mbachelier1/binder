{
 "cells": [
  {
   "cell_type": "markdown",
   "metadata": {},
   "source": [
    "<div style=\"padding:5px; border-radius:10px;background-color:lightsalmon;\">\n",
    "    \n",
    "<h1 style=\"text-align:center;color:black;\"> Algorithmes des graphes</h1>\n",
    "<h3 style=\"text-align:center;\"> Terminale NSI</h3>\n",
    "\n",
    "<h4 style=\"text-align:center;\"> MB </h4>\n",
    "\n",
    "\n",
    "</div> "
   ]
  },
  {
   "cell_type": "markdown",
   "metadata": {},
   "source": [
    "<h2 style=\"color: orange; font-style: 16px italic verdana;\">Matrice d'adjacence et tracé de graphe</h2> "
   ]
  },
  {
   "cell_type": "markdown",
   "metadata": {},
   "source": [
    "<div class=\"alert alert-info\" role=\"alert\" style=\"font-style: italic verdana;\">Voici une série de fonctions de représentation de graphes qui pourront servir à visualiser vos graphes dans cette activité et dans le TP</div>"
   ]
  },
  {
   "cell_type": "code",
   "execution_count": null,
   "metadata": {},
   "outputs": [],
   "source": [
    "from graphviz import*"
   ]
  },
  {
   "cell_type": "markdown",
   "metadata": {},
   "source": [
    "<h3 style=\"color:purple; font-style:verdana italic 14px;\">Création du graphe non pondéré à partir d'un dictionnaire</h3>"
   ]
  },
  {
   "cell_type": "code",
   "execution_count": null,
   "metadata": {},
   "outputs": [],
   "source": [
    "def creer_graphe_dico(dico):\n",
    "    '''crée le graphe non pondéré et non orienté à partir d'un dictionnaire dont les clés sont les sommets du graphe\n",
    "    et les valeurs, la LISTE de des voisins\n",
    "    {'a':['b','c'],'b':['a'],'c':['a','d'],'d':['c']}'''\n",
    "    #Créer l'objet Digraph\n",
    "    g = Graph(engine='neato')\n",
    "    a_traitees = list() # liste des aretes deja traitées\n",
    "    # Créer les noeuds\n",
    "    for noeud in dico.keys():\n",
    "        g.node(noeud)\n",
    "    # Création des arêtes:\n",
    "    for noeud, noeuds_voisins in dico.items():\n",
    "        for voisin in noeuds_voisins:\n",
    "            if (voisin, noeud) not in a_traitees:\n",
    "                g.edge(noeud, voisin)\n",
    "                a_traitees.append((noeud, voisin))\n",
    "    return g\n",
    "graphe1={\"a\":[\"b\",\"c\"],\"b\":[\"a\",\"d\",\"e\"],\"c\":[\"a\",\"d\"],\"d\":[\"c\",\"b\",\"e\"],\"e\":[\"b\",\"d\",\"f\",\"g\"],\"f\":[\"e\",\"g\"],\"g\":[\"e\",\"f\",\"h\"],\"h\":[\"g\"]}\n",
    "G=creer_graphe_dico(graphe1)\n",
    "G"
   ]
  },
  {
   "cell_type": "markdown",
   "metadata": {},
   "source": [
    "<h3 style=\"color:purple; font-style:verdana italic 14px;\">Création d'un graphe pondéré à partir d'un dictionnaire de dictionnaire</h3>"
   ]
  },
  {
   "cell_type": "code",
   "execution_count": null,
   "metadata": {},
   "outputs": [],
   "source": [
    "def dicoVersGraphPond(arbre):\n",
    "    '''créé le graphe  pondéré et non orienté à partir d'un dictionnaire dont les clés sont les sommets du graphe\n",
    "    et les valeurs, la LISTE de sun dictionnaire dont les clés sont les voisins et les valeurs les poids des arcs.\n",
    "    {'A':{'B':2, 'C':1}, \n",
    "     'B':{'A':2, 'C':2, 'D':1, 'E':3},\n",
    "     'C':{'A':1, 'B':2, 'D':4, 'E':3, 'F':5},\n",
    "     'D':{'B':1, 'C':4, 'E':3, 'F':6, 'G':5},\n",
    "     'E':{'B':3, 'C':3, 'D':3, 'F':1},\n",
    "     'F':{'C':5, 'D':6, 'E':1, 'G':2},\n",
    "     'G':{'D':5, 'F':2}}\n",
    "    '''\n",
    "    # Créer l'objet Digraph\n",
    "    g = Graph(engine='circo')\n",
    "    a_traitees = list() # liste des aretes deja traitées\n",
    "    # Créer les noeuds\n",
    "    for noeud in arbre.keys():\n",
    "        g.node(noeud)\n",
    "    # Création des arêtes:\n",
    "    for noeud, noeuds_voisins in arbre.items():\n",
    "        for noeud_voisin, distance in noeuds_voisins.items():\n",
    "            if {noeud, noeud_voisin} not in a_traitees:\n",
    "                g.edge(noeud, noeud_voisin, str(distance))\n",
    "                a_traitees.append({noeud, noeud_voisin})\n",
    "    return g\n",
    "dico={'A':{'B':2, 'C':1}, \n",
    "     'B':{'A':2, 'C':2, 'D':1, 'E':3},\n",
    "     'C':{'A':1, 'B':2, 'D':4, 'E':3, 'F':5},\n",
    "     'D':{'B':1, 'C':4, 'E':3, 'F':6, 'G':5},\n",
    "     'E':{'B':3, 'C':3, 'D':3, 'F':1},\n",
    "     'F':{'C':5, 'D':6, 'E':1, 'G':2},\n",
    "     'G':{'D':5, 'F':2}}\n",
    "G1=dicoVersGraphPond(dico)\n",
    "G1"
   ]
  },
  {
   "cell_type": "markdown",
   "metadata": {},
   "source": [
    "<h3 style=\"color:purple; font-style:verdana italic 14px;\">Création d'un graphe pondéré ou non à partir d'une matrice</h3>"
   ]
  },
  {
   "cell_type": "code",
   "execution_count": null,
   "metadata": {},
   "outputs": [],
   "source": [
    "def creer_graphe_matrice(matrix):\n",
    "    '''Crée un graphe non orienté pondéré à partir d\\'un tableau dont la premiere ligne constitue les noeuds et les cases\n",
    "    contiennent les poids des arcs\n",
    "    [['A','B','C','D','E','F','G','H'],\n",
    "        [0, 1, 0, 0, 0, 2, 1, 3],\n",
    "        [1, 0, 4, 2, 0, 0, 0, 1],\n",
    "        [0, 6, 0, 7, 8, 0, 0, 0],\n",
    "        [0, 5, 4, 0, 0, 0, 0, 0],\n",
    "        [0, 0, 2, 0, 0, 3, 0, 0],\n",
    "        [9, 0, 0, 0, 8, 0, 7, 0],\n",
    "        [4, 0, 0, 0, 0, 3, 0, 0],\n",
    "        [2, 5, 0, 0, 0, 0, 0, 0]]'''\n",
    "    g = Graph(engine='neato')\n",
    "    a_traitees = list()\n",
    "    for noeud in matrix[0]:\n",
    "        g.node(noeud)\n",
    "    for i in range (1,len(matrix)):\n",
    "        for j in range(len(matrix[0])):\n",
    "            if (matrix[0][j],matrix[0][i-1]) not in a_traitees and matrix[i][j]!=0:\n",
    "                g.edge(matrix[0][i-1],matrix[0][j],str(matrix[i][j]))\n",
    "                a_traitees.append((matrix[0][i-1],matrix[0][j]))\n",
    "    return g\n",
    "\n",
    "mat=[['A','B','C','D','E','F','G','H'],\n",
    "        [0, 1, 0, 0, 0, 2, 1, 3],\n",
    "        [1, 0, 4, 2, 0, 0, 0, 1],\n",
    "        [0, 6, 0, 7, 8, 0, 0, 0],\n",
    "        [0, 5, 4, 0, 0, 0, 0, 0],\n",
    "        [0, 0, 2, 0, 0, 3, 0, 0],\n",
    "        [9, 0, 0, 0, 8, 0, 7, 0],\n",
    "        [4, 0, 0, 0, 0, 3, 0, 0],\n",
    "        [2, 5, 0, 0, 0, 0, 0, 0]]\n",
    "G2=creer_graphe_matrice(mat)\n",
    "G2  "
   ]
  },
  {
   "cell_type": "code",
   "execution_count": null,
   "metadata": {},
   "outputs": [],
   "source": [
    "print(G2)"
   ]
  },
  {
   "cell_type": "markdown",
   "metadata": {},
   "source": [
    "<h3 style=\"color:purple; font-style:verdana italic 14px;\">A partir d'un rendu <code>dot</code> tel que graphiz revoie quand on utilise la commande  <code>print() </code>.  </h3>"
   ]
  },
  {
   "cell_type": "code",
   "execution_count": null,
   "metadata": {},
   "outputs": [],
   "source": [
    "graph = temp = '''\n",
    "digraph {\n",
    "    a [label=\"a\"]\n",
    "    b [shape=\"polygon\" style=\"filled\" fillcolor=\"#ff7f0e\"]\n",
    "    c\n",
    "    a -> b [taillabel=\"poid\"]\n",
    "    c->a[label=5]\n",
    " \n",
    "}'''\n",
    "dot = Source(graph)\n",
    "dot\n",
    "#remplacer digraph par graph et -> par -- pour un graphe non orienté"
   ]
  },
  {
   "cell_type": "markdown",
   "metadata": {},
   "source": [
    "<h2 style=\"color: orange; font-style: 16px italic verdana;\"> Parcours en largeur d'abord (Breadth First Search - BFS)</h2>"
   ]
  },
  {
   "cell_type": "markdown",
   "metadata": {},
   "source": [
    "<div class=\"alert alert-warning\" style=\"border-left:5px solid #8a6d3b;\">Le parcours en largeur, comme pour les arbres, consiste à visiter tous les noeuds se situant à une profondeur 1 du noeud de départ, puis tous les noeuds de profondeur 2, ...  <br>\n",
    "Le noeud de départ est un paramètre de la recherche et le parcours du graphe va dépendre de ce choix.<br>  \n",
    "</div>"
   ]
  },
  {
   "cell_type": "markdown",
   "metadata": {},
   "source": [
    "<h3 style=\"color:purple; font-style:verdana italic 14px;\">Principe de l'algorithme</h3> "
   ]
  },
  {
   "cell_type": "markdown",
   "metadata": {},
   "source": [
    "<div class=\"alert alert-danger\" role=\"alert\" style=\"border-left:15px solid #6D071A;\">\n",
    "\n",
    "    On crée une file vide\n",
    "    1. On enfile le nœud de départ.\n",
    "    2. On enfile les nœuds adjacents s'ils ne sont pas déjà présents dans la file et qu'ils n'ont pas déjà été visités (on créera une liste pour y stocker les noeuds visités)\n",
    "    3. On défile (c'est-à-dire on supprime la tête de file).\n",
    "    4. Tant que la file n'est pas vide, on ré-itère les points 2 et 3.\n",
    "    5. On affiche la liste des noeuds visités<br>\n",
    "</div>\n",
    "\n",
    "![animation BFS](https://www.lecluse.fr/nsi/NSI_T/algo/graphes/ex_graphe_bfs.gif)"
   ]
  },
  {
   "cell_type": "markdown",
   "metadata": {},
   "source": [
    "<div class=\"alert alert-success\" style=\"border-left: 15px solid #3c763d;border-radius:2px;\">Sur le même principe que l'animation définir un parcours en largeur en commençant par le noeud <code>h</code> puis par le noeud <code>d</code> </div>"
   ]
  },
  {
   "cell_type": "markdown",
   "metadata": {},
   "source": [
    "*votre reponse ici*"
   ]
  },
  {
   "cell_type": "markdown",
   "metadata": {},
   "source": [
    "<div class=\"alert alert-success\" style=\"border-left: 15px solid #3c763d;border-radius:2px;\">Implémentez en python la fonction \n",
    "    <code>BFS(graph,sommet)</code> qui affiche la liste des noeuds visités dans l'ordre de visite.</div>"
   ]
  },
  {
   "cell_type": "code",
   "execution_count": null,
   "metadata": {},
   "outputs": [],
   "source": [
    "graphe1={\"a\":[\"b\",\"c\"],\"b\":[\"a\",\"d\",\"e\"],\"c\":[\"a\",\"d\"],\"d\":[\"c\",\"b\",\"e\"],\"e\":[\"b\",\"d\",\"f\",\"g\"],\"f\":[\"e\",\"g\"],\"g\":[\"e\",\"f\",\"h\"],\"h\":[\"g\"]}\n",
    "def BFS(graph,sommet):\n",
    "    pass\n",
    "\n",
    "print(BFS(graphe1,\"a\"))\n",
    "print(BFS(graphe1,\"h\"))\n",
    "print(BFS(graphe1,\"d\"))"
   ]
  },
  {
   "cell_type": "markdown",
   "metadata": {},
   "source": [
    "<h2 style=\"color: orange; font-style: 16px italic verdana;\"> Parcours en profondeur d'abord (Deep first Searh - DFS)</h2> "
   ]
  },
  {
   "cell_type": "markdown",
   "metadata": {},
   "source": [
    "<div class=\"alert alert-info\" role=\"alert\" style=\"font-style: italic verdana;\">Pour le parcours en profondeur, on commence avec un nœud donné et on explore chaque branche complètement avant de passer à la suivante. Autrement dit, on commence d'abord par aller le plus profond possible. Comme pour les arbres, cet algorithme s'écrit naturellement de manière récursive.</div>\n",
    "\n",
    "<h3 style=\"color:purple; font-style:verdana italic 14px;\">Principe de l'algorithme</h3> \n",
    "   <div class=\"alert alert-danger\" role=\"alert\" style=\"border-left:15px solid #6D071A;\">\n",
    "    \n",
    "    1. On part d'un sommet que l'on empile;\n",
    "    2. On dépile et on marque le sommet dépilé comme traité (il faudrait créer une liste pour les sommets déjà traités)\n",
    "    3. On empile chacun des voisins du sommet dépilé qui ne sont pas déjà dans la pile et qui n'ont pas été déjà été traités;\n",
    "    4. On recommence à partir du point 2 tant que la pile n'est pas vide.\n",
    "</div>\n",
    "    \n",
    "![animation DFS](https://www.lecluse.fr/nsi/NSI_T/algo/graphes/ex_graphe_dfs.gif)\n"
   ]
  },
  {
   "cell_type": "markdown",
   "metadata": {},
   "source": [
    "<div class=\"alert alert-success\" style=\"border-left: 15px solid #3c763d;border-radius:2px;\">Sur le même principe que l'animation définir un parcours en profondeur en commençant par le noeud \"h\" puis par le noeud \"d\" </div>"
   ]
  },
  {
   "cell_type": "markdown",
   "metadata": {},
   "source": [
    "*votre reponse ici*"
   ]
  },
  {
   "cell_type": "markdown",
   "metadata": {},
   "source": [
    "<div class=\"alert alert-success\" style=\"border-left: 15px solid #3c763d;border-radius:2px;\">Implémentez en python la fonction <code>DFS(graph,sommet)</code> qui affiche la liste des noeuds visités dans l'ordre de visite.</div>"
   ]
  },
  {
   "cell_type": "code",
   "execution_count": null,
   "metadata": {
    "scrolled": true
   },
   "outputs": [],
   "source": [
    "def DFS(graph,sommet):\n",
    "    pass\n",
    "    \n",
    "print(DFS(graphe1,\"a\"))"
   ]
  },
  {
   "cell_type": "markdown",
   "metadata": {},
   "source": [
    "<h2 style=\"color: orange; font-style: 16px italic verdana;\"> Rechercher un chemin</h2> "
   ]
  },
  {
   "cell_type": "markdown",
   "metadata": {},
   "source": [
    "<div class=\"alert alert-warning\" style=\"border-left:5px solid #8a6d3b;\">Le but ici n'est pas de chercher le plus court chemin mais juste un chemin possible. Il existe des algorithme permettant de cherher le plus court chemin.</div>"
   ]
  },
  {
   "cell_type": "markdown",
   "metadata": {},
   "source": [
    "<h3 style=\"color:purple; font-style:verdana italic 14px;\">Principe de l'algorithme</h3> "
   ]
  },
  {
   "cell_type": "markdown",
   "metadata": {},
   "source": [
    "<div class=\"alert alert-danger\" role=\"alert\" style=\"border-left:5px solid #6D071A;\">\n",
    "\n",
    "    \n",
    "    Fonction cherche_chemin(graphe,depart,arrivee)  \n",
    "        P ← pile vide  \n",
    "        empiler le couple (depart,[depart]) dans P  \n",
    "        chemin ← liste vide  \n",
    "        Tant que P n'est pas vide faire  \n",
    "            (sommet,chemin) ← on dépile P  \n",
    "            listes_nouveaux_sommets_voisins ← liste des sommets   adjacents à sommet qui ne sont pas dans chemin (liste réinitialisée à chaque tour)  \n",
    "            Pour un_sommet dans listes_nouveaux_sommets_voisins  \n",
    "                Si un_sommet = arrivee alors  \n",
    "                    retourner chemin + [un_sommet]  \n",
    "                sinon  \n",
    "                    empiler (un_sommet,chemin + [un_sommet])  \n",
    "                FinSi  \n",
    "            FinPour  \n",
    "        FinTantQue  \n",
    "    FinFonction \n",
    "\t\t\n",
    "\n",
    "</div>"
   ]
  },
  {
   "cell_type": "markdown",
   "metadata": {},
   "source": [
    "<div class=\"alert alert-success\" style=\"border-left: 5px solid #3c763d;border-radius:2px;\">Implémentez en python la fonction <code>chercher_chemin(graphe,depart,arrivee)</code> qui retoure la liste des chemins possible pour partir de <code>depart</code> et atteindre <code>arrivee</code>..</div>"
   ]
  },
  {
   "cell_type": "code",
   "execution_count": null,
   "metadata": {},
   "outputs": [],
   "source": [
    "def chercher_chemin(graphe, depart,arrivee):\n",
    "    \"\"\"\n",
    "    recherche d'un chemin dans un graphe depuis un sommet de départ vers un sommet d'arrivée\n",
    "    :param graphe: une liste d'adajence du graphe étudié (un dictionnaire)\n",
    "    :param depart: le sommet de départ pour le chemin recherché\n",
    "    :param arrivee: le sommet d'arrivée pur le chemin recherché\n",
    "    :return: la liste des sommets du graphe\n",
    "    \"\"\"\n",
    "    pass\n",
    "\n",
    "graphe1={\"a\":[\"b\",\"c\"],\"b\":[\"a\",\"d\",\"e\"],\"c\":[\"a\",\"d\"],\"d\":[\"c\",\"b\",\"e\"],\"e\":[\"b\",\"d\",\"f\",\"g\"],\"f\":[\"e\",\"g\"],\"g\":[\"e\",\"f\",\"h\"],\"h\":[\"g\"]}\n",
    "chercher_chemin(graphe1,\"a\",\"g\")"
   ]
  },
  {
   "cell_type": "markdown",
   "metadata": {},
   "source": [
    "<div class=\"alert alert-success\" style=\"border-left: 5px solid #3c763d;border-radius:2px;\">Modifier la focntion précédente pour crée la fonction <code>cherche_tous_chemin(graphe,depart,arrivee)</code> pour quelle reoutrne une liste de tous les chemins et pas seulement le premier rencontré.</div>"
   ]
  },
  {
   "cell_type": "code",
   "execution_count": null,
   "metadata": {},
   "outputs": [],
   "source": [
    "def chercher_tous_chemins(graphe, depart,arrivee):\n",
    "    \"\"\"\n",
    "    recherche d'un chemin dans un graphe depuis un sommet de départ vers un sommet d'arrivée\n",
    "    :param graphe: une liste d'adajence du graphe étudié (un dictionnaire)\n",
    "    :param depart: le sommet de départ pour le chemin recherché\n",
    "    :param arrivee: le sommet d'arrivée pur le chemin recherché\n",
    "    :return: la liste des sommets du graphe\n",
    "    \"\"\"\n",
    "    pass\n",
    "\n",
    "\n",
    "graphe1={\"a\":[\"b\",\"c\"],\"b\":[\"a\",\"d\",\"e\"],\"c\":[\"a\",\"d\"],\"d\":[\"c\",\"b\",\"e\"],\"e\":[\"b\",\"d\",\"f\",\"g\"],\"f\":[\"e\",\"g\"],\"g\":[\"e\",\"f\",\"h\"],\"h\":[\"g\"]}\n",
    "print(chercher_tous_chemins(graphe1,\"a\",\"g\"))"
   ]
  },
  {
   "cell_type": "markdown",
   "metadata": {},
   "source": [
    "<div class=\"alert alert-success\" style=\"border-left: 5px solid #3c763d;border-radius:2px;\">Utiliser la fonction précédetne pour créer une fonction qui retourne le chemin le plus court.</div>"
   ]
  },
  {
   "cell_type": "code",
   "execution_count": null,
   "metadata": {},
   "outputs": [],
   "source": [
    "from math import inf\n",
    "def chercher_chemin_plus_court(graphe, depart,arrivee):\n",
    "    \"\"\"\n",
    "    recherche d'un chemin dans un graphe depuis un sommet de départ vers un sommet d'arrivée\n",
    "    :param graphe: une liste d'adajence du graphe étudié (un dictionnaire)\n",
    "    :param depart: le sommet de départ pour le chemin recherché\n",
    "    :param arrivee: le sommet d'arrivée pur le chemin recherché\n",
    "    :return: la liste des sommets du graphe\n",
    "    \"\"\"\n",
    "    pass\n",
    "\n",
    "\n",
    "    \n",
    "graphe1={\"a\":[\"b\",\"c\"],\"b\":[\"a\",\"d\",\"e\"],\"c\":[\"a\",\"d\"],\"d\":[\"c\",\"b\",\"e\"],\"e\":[\"b\",\"d\",\"f\",\"g\"],\"f\":[\"e\",\"g\"],\"g\":[\"e\",\"f\",\"h\"],\"h\":[\"g\"]}\n",
    "print(chercher_chemin_plus_court(graphe1,\"a\",\"g\"))"
   ]
  },
  {
   "cell_type": "markdown",
   "metadata": {},
   "source": [
    "<h2 style=\"color: orange; font-style: 16px italic verdana;\">Recherche de cycle</h2>"
   ]
  },
  {
   "cell_type": "markdown",
   "metadata": {},
   "source": [
    "<div class=\"alert alert-warning\" style=\"border-left:5px solid #8a6d3b;\">Un cycle est un chemin qui revient au sommet de départ sans <strong>jamais</strong> faire demi tour.  <br>\n",
    "Pour rechercher un cylce nous allons utiliser la fonction précédente.\n",
    "</div>"
   ]
  },
  {
   "cell_type": "markdown",
   "metadata": {},
   "source": [
    "<h3 style=\"color:purple; font-style:verdana italic 14px;\">Principe de l'algorithme</h3> "
   ]
  },
  {
   "cell_type": "markdown",
   "metadata": {},
   "source": [
    "<div class=\"alert alert-danger\" role=\"alert\" style=\"border-left:5px solid #6D071A;\">\n",
    "    \n",
    "    \n",
    "    Fonction rechercher_cycle(graphe,sommet):\n",
    "        cycle←liste vide\n",
    "        Pour tous les voisins de sommet\n",
    "            chercher tous les chemins entre sommet et voisin\n",
    "        FIN Pour\n",
    "        Pour chaque chemin trouvé :\n",
    "            ajouter à cycle (chemin+sommet)  \n",
    "        FIN POUR\n",
    "        Revoyer cycle\n",
    "    FIN FONCTION\n",
    "                               \n",
    "</div>                     \n",
    "\n"
   ]
  },
  {
   "cell_type": "markdown",
   "metadata": {},
   "source": [
    "<div class=\"alert alert-success\" style=\"border-left: 5px solid #3c763d;border-radius:2px;\">Implémenter la fonction <code>cycle(graphe,sommet)</code> qu recherche les cycles à partir du sommet passé en argument.</div>"
   ]
  },
  {
   "cell_type": "code",
   "execution_count": null,
   "metadata": {},
   "outputs": [],
   "source": [
    "def cycle(graphe,sommet):\n",
    "    pass\n",
    "\n",
    "graphe1={\"a\":[\"b\",\"c\"],\"b\":[\"a\",\"d\",\"e\"],\"c\":[\"a\",\"d\"],\"d\":[\"c\",\"b\",\"e\"],\"e\":[\"b\",\"d\",\"f\",\"g\"],\"f\":[\"e\",\"g\"],\"g\":[\"e\",\"f\",\"h\"],\"h\":[\"g\"]}\n",
    "print(cycle(graphe1,\"a\"))"
   ]
  }
 ],
 "metadata": {
  "kernelspec": {
   "display_name": "Python 3 (ipykernel)",
   "language": "python",
   "name": "python3"
  },
  "language_info": {
   "codemirror_mode": {
    "name": "ipython",
    "version": 3
   },
   "file_extension": ".py",
   "mimetype": "text/x-python",
   "name": "python",
   "nbconvert_exporter": "python",
   "pygments_lexer": "ipython3",
   "version": "3.9.6"
  }
 },
 "nbformat": 4,
 "nbformat_minor": 4
}
