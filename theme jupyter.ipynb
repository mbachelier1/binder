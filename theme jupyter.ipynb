{
 "cells": [
  {
   "cell_type": "markdown",
   "metadata": {},
   "source": [
    "<div style=\"padding:5px; border-radius:10px;background-color:lightsalmon;\">\n",
    "    \n",
    "<h1 style=\"text-align:center;color:black;\"> TP LISTES CHAINEES, PILES ET FILES </h1>\n",
    "<h3 style=\"text-align:center;\"> Terminale NSI</h3>\n",
    "\n",
    "<h4 style=\"text-align:center;\"> MB  </h4>\n",
    "\n",
    "\n",
    "</div>"
   ]
  },
  {
   "cell_type": "markdown",
   "metadata": {},
   "source": [
    "<h2 style=\"color: orange; font-style: 16px italic verdana;\"> Titre 2</h2>"
   ]
  },
  {
   "cell_type": "markdown",
   "metadata": {},
   "source": [
    "<h3 style=\"color:purple; font-style:verdana italic 14px;\">Titre 3</h3>"
   ]
  },
  {
   "cell_type": "markdown",
   "metadata": {},
   "source": [
    "<div class=\"alert alert-info\" role=\"alert\" style=\"border-left:5px solid darkblue;\">\n",
    "\n",
    " **info importantes**\n",
    "\n",
    "</div>"
   ]
  },
  {
   "cell_type": "markdown",
   "metadata": {},
   "source": [
    "   <div class=\"alert alert-danger\" role=\"alert\" style=\"border-left:5px solid #6D071A;\">\n",
    "info   \n",
    "    \n",
    "**importantes**\n",
    "    \n",
    "</div>"
   ]
  },
  {
   "cell_type": "markdown",
   "metadata": {},
   "source": [
    "<div class=\"alert alert-success\" style=\"border-left: 5px solid #3c763d;border-radius:2px;\">\n",
    "   travail à faire\n",
    "    </div>"
   ]
  },
  {
   "cell_type": "markdown",
   "metadata": {},
   "source": [
    "\n",
    "<div class=\"alert alert-info\" role=\"alert\">\n",
    "\n",
    "<details ><summary style=\"summary::-webkit-details-marker { color:##dff0d8; background:#dff0d8;} \">\n",
    "    \n",
    "**afficher un indice**\n",
    "</summary>\n",
    "\n",
    "une petite aide\n",
    "</details></div>"
   ]
  },
  {
   "cell_type": "markdown",
   "metadata": {},
   "source": [
    "<div class=\"alert alert-info\" role=\"alert\" style=\"font-style: italic verdana;\">explications consignes <code>un peu de code</code>. \n",
    "</div>"
   ]
  },
  {
   "cell_type": "markdown",
   "metadata": {},
   "source": [
    "\n",
    "<div class=\"alert alert-info\" role=\"alert\">\n",
    "\n",
    " **représenter une fonction en python**\n",
    "    <br><br>\n",
    "\n",
    "</div>"
   ]
  },
  {
   "cell_type": "markdown",
   "metadata": {},
   "source": [
    "<div class=\"alert alert-warning\" style=\"border-left:5px solid #8a6d3b;\">\n",
    "    à noter\n",
    "    </div>"
   ]
  },
  {
   "cell_type": "code",
   "execution_count": null,
   "metadata": {},
   "outputs": [],
   "source": []
  }
 ],
 "metadata": {
  "kernelspec": {
   "display_name": "Python 3 (ipykernel)",
   "language": "python",
   "name": "python3"
  },
  "language_info": {
   "codemirror_mode": {
    "name": "ipython",
    "version": 3
   },
   "file_extension": ".py",
   "mimetype": "text/x-python",
   "name": "python",
   "nbconvert_exporter": "python",
   "pygments_lexer": "ipython3",
   "version": "3.9.6"
  }
 },
 "nbformat": 4,
 "nbformat_minor": 4
}
