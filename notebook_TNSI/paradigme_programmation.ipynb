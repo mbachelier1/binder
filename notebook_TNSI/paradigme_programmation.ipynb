{
 "cells": [
  {
   "cell_type": "markdown",
   "metadata": {},
   "source": [
    "<div style=\"padding:5px; border-radius:10px;background-color:lightsalmon;\">\n",
    "    \n",
    "<h1 style=\"text-align:center;color:black;\"> Paradigmes de programmation </h1>\n",
    "<h3 style=\"text-align:center;\"> Terminale NSI</h3>\n",
    "\n",
    "<h4 style=\"text-align:center;\"> MB  </h4>\n",
    "\n",
    "\n",
    "</div>"
   ]
  },
  {
   "cell_type": "markdown",
   "metadata": {},
   "source": [
    "<h2 style=\"color: orange; font-style: 16px italic verdana;\"> Programmation fonctionnelle vs impérative</h2>"
   ]
  },
  {
   "cell_type": "markdown",
   "metadata": {},
   "source": [
    "<div class=\"alert alert-success\" style=\"border-left: 5px solid #3c763d;border-radius:2px;\">\n",
    " Pour chaque fonction ci-dessous, modifier le code de façon à ce qu'il respecte les règles du paradigme fonctionel :\n",
    "    </div>"
   ]
  },
  {
   "cell_type": "code",
   "execution_count": null,
   "metadata": {},
   "outputs": [],
   "source": [
    "c=1\n",
    "def augmenter(n):\n",
    "    global c\n",
    "    c=c+n\n",
    "    return c\n",
    "print(augmenter(5))\n",
    "print(augmenter(5))"
   ]
  },
  {
   "cell_type": "code",
   "execution_count": null,
   "metadata": {},
   "outputs": [],
   "source": [
    "#TODO"
   ]
  },
  {
   "cell_type": "code",
   "execution_count": null,
   "metadata": {},
   "outputs": [],
   "source": [
    "l = [4,7,3]\n",
    "def ajout(i):\n",
    "  l.append(i)\n",
    "ajout(5)\n",
    "print(l)"
   ]
  },
  {
   "cell_type": "code",
   "execution_count": null,
   "metadata": {},
   "outputs": [],
   "source": [
    "#TODO"
   ]
  },
  {
   "cell_type": "code",
   "execution_count": null,
   "metadata": {},
   "outputs": [],
   "source": [
    "i = 5\n",
    "def fct():\n",
    "  if i > 5:\n",
    "    return True\n",
    "  else :\n",
    "    return False\n",
    "fct()"
   ]
  },
  {
   "cell_type": "code",
   "execution_count": null,
   "metadata": {},
   "outputs": [],
   "source": [
    "#TODO"
   ]
  },
  {
   "cell_type": "code",
   "execution_count": null,
   "metadata": {},
   "outputs": [],
   "source": [
    "def mafonction(n):\n",
    "    while n<10:\n",
    "        print(n)\n",
    "        n+=1\n",
    "        \n",
    "mafonction(5)"
   ]
  },
  {
   "cell_type": "code",
   "execution_count": null,
   "metadata": {},
   "outputs": [],
   "source": [
    "#TODO"
   ]
  },
  {
   "cell_type": "markdown",
   "metadata": {},
   "source": [
    "\n",
    "<div class=\"alert alert-success\" style=\"border-left: 5px solid #3c763d;border-radius:2px;\">\n",
    "En respectant le paradigme fonctionnel, créer une fonction max2 qui prend comme argument deux entiers et qui renvoie le maximum de ces deux nombres\n",
    "</div>\n"
   ]
  },
  {
   "cell_type": "code",
   "execution_count": null,
   "metadata": {},
   "outputs": [],
   "source": [
    "#TODO\n",
    "    "
   ]
  },
  {
   "cell_type": "markdown",
   "metadata": {},
   "source": [
    "<div class=\"alert alert-success\" style=\"border-left: 5px solid #3c763d;border-radius:2px;\">En respectant le paradigme fonctionnel, créer une fonction maxL qui prend comme argument une liste non vide de nombres entiers et qui renvoie le maximum de cette liste.</div> "
   ]
  },
  {
   "cell_type": "code",
   "execution_count": null,
   "metadata": {},
   "outputs": [],
   "source": [
    "#TODO"
   ]
  },
  {
   "cell_type": "markdown",
   "metadata": {},
   "source": [
    "<h2 style=\"color: orange; font-style: 16px italic verdana;\">Créer des fonctions</h2>"
   ]
  },
  {
   "cell_type": "markdown",
   "metadata": {},
   "source": [
    "<div class=\"alert alert-success\" style=\"border-left: 5px solid #3c763d;border-radius:2px;\">\n",
    "Créer la fonction <code>filtre(fonction, liste)</code>: fonction qui prend deux paramètres en entrée:<br>\n",
    "    - une fonction de décision à 1 paramètre de type simple(int pour simplifier). <br>\n",
    "    - et une liste,\n",
    "\n",
    "Cette fonction renvoie une nouvelle liste avec seulement les éléments ayant satisfait la fonction de décision.  \n",
    "    On demande ici une programmation fonctionnelle (pas de boucle!!)"
   ]
  },
  {
   "cell_type": "code",
   "execution_count": null,
   "metadata": {},
   "outputs": [],
   "source": [
    "def pair(n):\n",
    "    '''Renvoie True si n est pair et False sinon'''\n",
    "    pass\n",
    "    \n",
    "print(filtre(pair,[0, 1, 2, 3, 4]))"
   ]
  },
  {
   "cell_type": "code",
   "execution_count": null,
   "metadata": {},
   "outputs": [],
   "source": [
    "# nb impairs\n",
    "assert filtre(lambda x: x % 2 == 1, [0, 1, 2, 3, 4]) == [1, 3]\n",
    "# nb pairs\n",
    "assert filtre(lambda x: x % 2 == 0, [0, 1, 2, 3, 4]) == [0, 2, 4]"
   ]
  },
  {
   "cell_type": "markdown",
   "metadata": {},
   "source": [
    " <div class=\"alert alert-success\" style=\"border-left: 5px solid #3c763d;border-radius:2px;\">\n",
    "    Créer la fonction <code>applique(fonction, liste)</code> une fonction qui prend deux paramètres en entrée: <br>- une fonction à 1 paramètre de type simple(int pour simplifier) qui renvoie une valeur. <br><br>- et une liste,<br>\n",
    "\n",
    "Cette fonction renvoie une nouvelle liste pour laquelle a été appliqué la fonction donnée en argument à chacun des éléments de la liste d'entrée.  \n",
    "    On demande ici une programmation fonctionnelle (pas de boucle!!)</div>"
   ]
  },
  {
   "cell_type": "code",
   "execution_count": null,
   "metadata": {},
   "outputs": [],
   "source": [
    "def carre(n):\n",
    "    return n*n\n",
    "\n",
    "def applique(fonction,liste):\n",
    "    pass\n",
    "print(applique(carre,[0, 1, 2, 3, 4]))"
   ]
  },
  {
   "cell_type": "code",
   "execution_count": null,
   "metadata": {},
   "outputs": [],
   "source": [
    "# doubles\n",
    "assert applique(lambda x: x ** 2, [0, 1, 2, 3, 4]) == [0, 1, 4, 9, 16]\n",
    "# puissances de 2\n",
    "assert applique(lambda n: 2**n, [0, 1, 2, 3, 4]) == [1, 2, 4, 8, 16]"
   ]
  },
  {
   "cell_type": "markdown",
   "metadata": {},
   "source": [
    " <div class=\"alert alert-success\" style=\"border-left: 5px solid #3c763d;border-radius:2px;\">\n",
    "    Créer la fonction <code>reduit(fonction, liste)</code> une fonction qui prend deux paramètres en entrée: <br>- une fonction à 2 paramètres de type simple(int pour simplifier) qui renvoie une valeur. <br><br>- et une liste,<br>\n",
    "\n",
    "Cette fonction renvoie une valeur par l'accumulation des valeurs de la liste par la fonction d'accumulation donnée en argument.  \n",
    "    On demande ici une programmation fonctionnelle (pas de boucle!!)</div>"
   ]
  },
  {
   "cell_type": "code",
   "execution_count": null,
   "metadata": {},
   "outputs": [],
   "source": [
    "def addition(x,y):\n",
    "    return x+y\n",
    "def reduit(fonction,liste):\n",
    "    pass\n",
    "\n",
    "\n",
    "print(reduit(addition,[0, 1, 2, 3, 4]))\n"
   ]
  },
  {
   "cell_type": "code",
   "execution_count": null,
   "metadata": {},
   "outputs": [],
   "source": [
    "# addition des éléments\n",
    "assert reduit(lambda x, y: x + y, [0, 1, 2, 3, 4]) == 10\n",
    "# soustraction des éléments\n",
    "assert reduit(lambda x, y: x - y, [0, 1, 2, 3, 4]) == -10\n",
    "# concaténation des éléments\n",
    "assert reduit(lambda x, y: str(x) + str(y), [0, 1, 2, 3, 4]) == \"01234\""
   ]
  },
  {
   "cell_type": "markdown",
   "metadata": {},
   "source": [
    " <div class=\"alert alert-success\" style=\"border-left: 5px solid #3c763d;border-radius:2px;\">En utilisant la fonction <code>applique</code>, créer une fonction <code>negatif</code> qui permet de passer ce test:</div>"
   ]
  },
  {
   "cell_type": "code",
   "execution_count": null,
   "metadata": {},
   "outputs": [],
   "source": [
    "def negatif(liste):\n",
    "    pass\n",
    "\n",
    "assert negatif([0, 1, 2, 3, 4]) == [0, -1, -2, -3, -4]"
   ]
  },
  {
   "cell_type": "markdown",
   "metadata": {},
   "source": [
    " <div class=\"alert alert-success\" style=\"border-left: 5px solid #3c763d;border-radius:2px;\">\n",
    "    En utilisant la fonction <code>reduit</code>, créer en une ligne une fonction <code>longueur</code> qui permet de passer ces tests:</div>"
   ]
  },
  {
   "cell_type": "code",
   "execution_count": null,
   "metadata": {},
   "outputs": [],
   "source": [
    "def longueur(liste):\n",
    "    pass\n",
    "longueur([0, 1, 2, 3, 4])"
   ]
  },
  {
   "cell_type": "code",
   "execution_count": null,
   "metadata": {},
   "outputs": [],
   "source": [
    "assert longueur([]) == 0\n",
    "assert longueur([0, 1, 2]) == 3\n",
    "assert longueur([0, 1, 2, 3, 4]) == 5"
   ]
  }
 ],
 "metadata": {
  "kernelspec": {
   "display_name": "Python 3 (ipykernel)",
   "language": "python",
   "name": "python3"
  },
  "language_info": {
   "codemirror_mode": {
    "name": "ipython",
    "version": 3
   },
   "file_extension": ".py",
   "mimetype": "text/x-python",
   "name": "python",
   "nbconvert_exporter": "python",
   "pygments_lexer": "ipython3",
   "version": "3.9.6"
  }
 },
 "nbformat": 4,
 "nbformat_minor": 4
}
